{
  "cells": [
    {
      "cell_type": "code",
      "execution_count": 1,
      "metadata": {
        "colab": {
          "base_uri": "https://localhost:8080/"
        },
        "id": "XIZy9uSNF0PF",
        "outputId": "3af14a34-752a-49cb-ba01-451fbfa94cbd"
      },
      "outputs": [
        {
          "name": "stdout",
          "output_type": "stream",
          "text": [
            "Requirement already satisfied: gymnasium in /home/xiyana/anaconda3/envs/ai_t/lib/python3.8/site-packages (0.29.1)\n",
            "Requirement already satisfied: numpy>=1.21.0 in /home/xiyana/anaconda3/envs/ai_t/lib/python3.8/site-packages (from gymnasium) (1.24.4)\n",
            "Requirement already satisfied: cloudpickle>=1.2.0 in /home/xiyana/anaconda3/envs/ai_t/lib/python3.8/site-packages (from gymnasium) (3.0.0)\n",
            "Requirement already satisfied: typing-extensions>=4.3.0 in /home/xiyana/anaconda3/envs/ai_t/lib/python3.8/site-packages (from gymnasium) (4.8.0)\n",
            "Requirement already satisfied: farama-notifications>=0.0.1 in /home/xiyana/anaconda3/envs/ai_t/lib/python3.8/site-packages (from gymnasium) (0.0.4)\n",
            "Requirement already satisfied: importlib-metadata>=4.8.0 in /home/xiyana/anaconda3/envs/ai_t/lib/python3.8/site-packages (from gymnasium) (6.8.0)\n",
            "Requirement already satisfied: zipp>=0.5 in /home/xiyana/anaconda3/envs/ai_t/lib/python3.8/site-packages (from importlib-metadata>=4.8.0->gymnasium) (3.17.0)\n"
          ]
        }
      ],
      "source": [
        "!pip install gymnasium"
      ]
    },
    {
      "cell_type": "markdown",
      "metadata": {
        "id": "IZTUc41dDb_k"
      },
      "source": [
        "--\n",
        "\n",
        "Environment Description\n",
        "\n",
        "CartPole-v1 : https://gymnasium.farama.org/environments/classic_control/cart_pole/\n",
        "\n",
        "Acrobot-v1 : https://gymnasium.farama.org/environments/classic_control/acrobot/\n",
        "\n",
        "MountainCar-v0 : https://gymnasium.farama.org/environments/classic_control/mountain_car/\n",
        "\n",
        "--"
      ]
    },
    {
      "cell_type": "code",
      "execution_count": 2,
      "metadata": {
        "id": "D9igj6TrV25J"
      },
      "outputs": [],
      "source": [
        "import os\n",
        "import gymnasium as gym\n",
        "import torch\n",
        "import torch.nn as nn\n",
        "import torch.nn.functional as F\n",
        "import torch.optim as optim\n",
        "import numpy as np\n",
        "import random\n",
        "from collections import deque\n",
        "import matplotlib.pyplot as plt\n",
        "\n",
        "import warnings\n",
        "warnings.filterwarnings(\"ignore\")"
      ]
    },
    {
      "cell_type": "markdown",
      "metadata": {},
      "source": [
        "Keep randomness the same "
      ]
    },
    {
      "cell_type": "code",
      "execution_count": 3,
      "metadata": {},
      "outputs": [
        {
          "data": {
            "text/plain": [
              "<torch._C.Generator at 0x7f8618366590>"
            ]
          },
          "execution_count": 3,
          "metadata": {},
          "output_type": "execute_result"
        }
      ],
      "source": [
        "random.seed(42)\n",
        "np.random.seed(42)\n",
        "torch.manual_seed(42)"
      ]
    },
    {
      "cell_type": "markdown",
      "metadata": {
        "id": "tcmZHZ5oazus"
      },
      "source": [
        "\n",
        "\n",
        "---\n",
        "\n"
      ]
    },
    {
      "cell_type": "markdown",
      "metadata": {
        "id": "nRwRMsrdZ7xW"
      },
      "source": [
        "## 1. DQN Implemetation"
      ]
    },
    {
      "cell_type": "code",
      "execution_count": 4,
      "metadata": {
        "id": "gFqviUpRWEUx"
      },
      "outputs": [],
      "source": [
        "class QNetwork(nn.Module):\n",
        "    def __init__(self, state_dim, action_dim):\n",
        "        super(QNetwork, self).__init__()\n",
        "        # input  : (b_size, state_dim)\n",
        "        # output : (b_size, action_dim)\n",
        "        self.hidden_dim = 256\n",
        "        self.layer1 = nn.Linear(state_dim, self.hidden_dim)\n",
        "        self.layer2 = nn.Linear(self.hidden_dim, action_dim)\n",
        "        \n",
        "\n",
        "    def forward(self, s):\n",
        "        #\n",
        "        s_x = F.leaky_relu(self.layer1(s))\n",
        "        q = self.layer2(s_x)\n",
        "\n",
        "        return q"
      ]
    },
    {
      "cell_type": "code",
      "execution_count": 5,
      "metadata": {
        "id": "fZiCFDBwWKmR"
      },
      "outputs": [],
      "source": [
        "class DQNAgent:\n",
        "    def __init__(self, state_size, action_size, device):\n",
        "        self.state_size         = state_size\n",
        "        self.action_size        = action_size\n",
        "        self.device             = device\n",
        "\n",
        "        # Do not modify these hyper-parameters\n",
        "        self.Epochs             = 1000\n",
        "        self.discount_factor    = 0.98\n",
        "        self.learning_rate      = 0.001  # learning rate for q function\n",
        "        self.epsilon            = 1.0    # initial epsilon value\n",
        "        self.epsilon_min        = 0.001  # minimum epsilon value\n",
        "        self.batch_size         = 256\n",
        "        self.train_start        = self.batch_size * 5\n",
        "        self.memory             = deque(maxlen=100000)  # replay memory\n",
        "\n",
        "        # You can modify this depending on environments.\n",
        "        self.epsilon_decay_rate = 0.95 # decay rate\n",
        "\n",
        "        # Define and initialize your networks and optimizer\n",
        "        self.q_network =  QNetwork(self.state_size, self.action_size).to(device)\n",
        "        self.target_network =  QNetwork(self.state_size, self.action_size).to(device)\n",
        "        self.target_network.load_state_dict(self.q_network.state_dict())\n",
        "        self.optimizer = optim.Adam(self.q_network.parameters(), lr=self.learning_rate)\n",
        "        self.criterion =  nn.MSELoss() \n",
        "\n",
        "\n",
        "    def update_target_network(self):\n",
        "        # implement target Q network update function\n",
        "        self.target_network.load_state_dict(self.q_network.state_dict())\n",
        "\n",
        "\n",
        "\n",
        "    def get_action(self, state, use_epsilon_greedy=True):\n",
        "\n",
        "        state = torch.tensor(state, dtype=torch.float32, device=self.device).unsqueeze(0)\n",
        "\n",
        "        if use_epsilon_greedy:\n",
        "            # implement epsilon greedy policy given state\n",
        "            if random.random() < self.epsilon:\n",
        "                \n",
        "                action = random.randrange(self.action_size)\n",
        "            else:\n",
        "                \n",
        "                with torch.no_grad():\n",
        "                    action = self.q_network(state).max(1).indices.item()\n",
        "        else:\n",
        "            # implement greedy policy given state\n",
        "            # this greedy policy is used for evaluation\n",
        "            with torch.no_grad():\n",
        "                    action = self.q_network(state).max(1).indices.item()\n",
        "\n",
        "        return action\n",
        "\n",
        "    def append_sample(self, state, action, reward, next_state, done):\n",
        "        # implement storing function given (s,a,r,s',done) into the replay memory.\n",
        "        self.memory.append((state, action, reward, next_state, done)) \n",
        "\n",
        "    def get_samples(self, n):\n",
        "        # implement transition random sampling function from the replay memory,\n",
        "        # and make the transiton to batch.\n",
        "\n",
        "        transition_batch = random.sample(self.memory,n)\n",
        "\n",
        "        states, actions, rewards, next_states, dones = zip(*transition_batch)\n",
        "\n",
        "        s_batch = torch.tensor(states, dtype=torch.float32, device=self.device)\n",
        "        a_batch = torch.tensor(actions, dtype=torch.long, device=self.device).unsqueeze(1)\n",
        "        r_batch = torch.tensor(rewards, device=self.device).unsqueeze(1)\n",
        "        s_next_batch = torch.tensor(next_states, dtype=torch.float32, device=self.device)\n",
        "        done_batch = torch.tensor(dones, dtype=torch.bool, device=self.device)\n",
        "\n",
        "        # i.e.) s_batch : (batch_size, state_dim)\n",
        "        return s_batch, a_batch, r_batch, s_next_batch, done_batch\n",
        "\n",
        "    def epsilon_decay(self):\n",
        "        # implement epsilon decaying function\n",
        "        self.epsilon = max(self.epsilon_min, self.epsilon * self.epsilon_decay_rate)\n",
        "\n",
        "    def train(self):\n",
        "        s_batch, a_batch, r_batch, s_next_batch, done_batch = self.get_samples(self.batch_size)\n",
        "\n",
        "        # implement DQN training function.\n",
        "        # You can return any statistics you want to check and analize the training.  (i.e. loss, q values, target q values, ... etc)\n",
        "\n",
        "        \n",
        "        q_values = self.q_network(s_batch).gather(1,a_batch)\n",
        "        \n",
        "        next_state_values = torch.zeros(self.batch_size, 1, device=self.device)\n",
        "\n",
        "        with torch.no_grad():\n",
        "            next_state_values[~done_batch] = self.target_network(s_next_batch[~done_batch]).max(1).values.unsqueeze(1) \n",
        "            \n",
        "        expected_q_values = (next_state_values * self.discount_factor) + r_batch\n",
        "        loss = self.criterion(q_values, expected_q_values)\n",
        "        self.optimizer.zero_grad()\n",
        "        loss.backward()\n",
        "        self.optimizer.step()\n",
        "\n",
        "        return None\n",
        "\n"
      ]
    },
    {
      "cell_type": "code",
      "execution_count": 6,
      "metadata": {
        "id": "WRSX1bPeILPu"
      },
      "outputs": [],
      "source": [
        "# Do not modify this cell\n",
        "def evaluation(env, agent):\n",
        "    done, episode_score, episode_steps = False, 0.0, 0\n",
        "\n",
        "    state, _ = env.reset()\n",
        "    for t in range(env._max_episode_steps):\n",
        "        action = agent.get_action(state, use_epsilon_greedy=False)\n",
        "        state_next, reward, done, time_truncation, _ = env.step(action)\n",
        "\n",
        "        episode_score += reward\n",
        "        episode_steps += 1\n",
        "\n",
        "        state = state_next\n",
        "        if done:\n",
        "            break\n",
        "\n",
        "    return episode_score, episode_steps\n"
      ]
    },
    {
      "cell_type": "code",
      "execution_count": 7,
      "metadata": {
        "id": "iGps4pJ-R1Vi"
      },
      "outputs": [],
      "source": [
        "# experiments envs : \"CartPole-v1\", \"Acrobot-v1\", \"MountainCar-v0\"\n",
        "\n",
        "env_name          = \"MountainCar-v0\""
      ]
    },
    {
      "cell_type": "code",
      "execution_count": 8,
      "metadata": {
        "collapsed": true,
        "id": "PCkudfR1XPDL"
      },
      "outputs": [
        {
          "name": "stdout",
          "output_type": "stream",
          "text": [
            "state_size:2, action_size:3, max_episode_steps:200, device:cuda \n",
            "\n",
            "Epoch:0, Episode_score:-200.0, Episode_steps:200, epsilon:0.95\n",
            "Epoch:10, Episode_score:-200.0, Episode_steps:200, epsilon:0.5688000922764596\n",
            "Epoch:20, Episode_score:-200.0, Episode_steps:200, epsilon:0.34056162628811465\n",
            "Epoch:30, Episode_score:-200.0, Episode_steps:200, epsilon:0.20390682574579033\n",
            "Epoch:40, Episode_score:-200.0, Episode_steps:200, epsilon:0.12208654873684793\n",
            "Epoch:50, Episode_score:-200.0, Episode_steps:200, epsilon:0.07309772651287748\n",
            "Epoch:60, Episode_score:-200.0, Episode_steps:200, epsilon:0.04376630903760433\n",
            "Epoch:70, Episode_score:-200.0, Episode_steps:200, epsilon:0.02620450591493621\n",
            "Epoch:80, Episode_score:-200.0, Episode_steps:200, epsilon:0.015689605665762895\n",
            "Epoch:90, Episode_score:-200.0, Episode_steps:200, epsilon:0.009393946474176\n",
            "Epoch:100, Episode_score:-200.0, Episode_steps:200, epsilon:0.0056245027593172965\n",
            "Epoch:110, Episode_score:-200.0, Episode_steps:200, epsilon:0.003367597566851453\n",
            "Epoch:120, Episode_score:-200.0, Episode_steps:200, epsilon:0.0020163050597632503\n",
            "Epoch:130, Episode_score:-200.0, Episode_steps:200, epsilon:0.0012072363200535043\n",
            "Epoch:140, Episode_score:-200.0, Episode_steps:200, epsilon:0.001\n",
            "Epoch:150, Episode_score:-200.0, Episode_steps:200, epsilon:0.001\n",
            "Epoch:160, Episode_score:-199.0, Episode_steps:199, epsilon:0.001\n",
            "Epoch:170, Episode_score:-200.0, Episode_steps:200, epsilon:0.001\n",
            "Epoch:180, Episode_score:-200.0, Episode_steps:200, epsilon:0.001\n",
            "Epoch:190, Episode_score:-200.0, Episode_steps:200, epsilon:0.001\n",
            "Epoch:200, Episode_score:-148.0, Episode_steps:148, epsilon:0.001\n",
            "Epoch:210, Episode_score:-163.0, Episode_steps:163, epsilon:0.001\n",
            "Epoch:220, Episode_score:-155.0, Episode_steps:155, epsilon:0.001\n",
            "Epoch:230, Episode_score:-151.0, Episode_steps:151, epsilon:0.001\n",
            "Epoch:240, Episode_score:-141.0, Episode_steps:141, epsilon:0.001\n",
            "Epoch:250, Episode_score:-173.0, Episode_steps:173, epsilon:0.001\n",
            "Epoch:260, Episode_score:-152.0, Episode_steps:152, epsilon:0.001\n",
            "Epoch:270, Episode_score:-200.0, Episode_steps:200, epsilon:0.001\n",
            "Epoch:280, Episode_score:-186.0, Episode_steps:186, epsilon:0.001\n",
            "Epoch:290, Episode_score:-92.0, Episode_steps:92, epsilon:0.001\n",
            "Epoch:300, Episode_score:-162.0, Episode_steps:162, epsilon:0.001\n",
            "Epoch:310, Episode_score:-154.0, Episode_steps:154, epsilon:0.001\n",
            "Epoch:320, Episode_score:-106.0, Episode_steps:106, epsilon:0.001\n",
            "Epoch:330, Episode_score:-116.0, Episode_steps:116, epsilon:0.001\n",
            "Epoch:340, Episode_score:-200.0, Episode_steps:200, epsilon:0.001\n",
            "Epoch:350, Episode_score:-120.0, Episode_steps:120, epsilon:0.001\n",
            "Epoch:360, Episode_score:-159.0, Episode_steps:159, epsilon:0.001\n",
            "Epoch:370, Episode_score:-110.0, Episode_steps:110, epsilon:0.001\n",
            "Epoch:380, Episode_score:-88.0, Episode_steps:88, epsilon:0.001\n",
            "Epoch:390, Episode_score:-85.0, Episode_steps:85, epsilon:0.001\n",
            "Epoch:400, Episode_score:-113.0, Episode_steps:113, epsilon:0.001\n",
            "Epoch:410, Episode_score:-108.0, Episode_steps:108, epsilon:0.001\n",
            "Epoch:420, Episode_score:-151.0, Episode_steps:151, epsilon:0.001\n",
            "Epoch:430, Episode_score:-163.0, Episode_steps:163, epsilon:0.001\n",
            "Epoch:440, Episode_score:-111.0, Episode_steps:111, epsilon:0.001\n",
            "Epoch:450, Episode_score:-157.0, Episode_steps:157, epsilon:0.001\n",
            "Epoch:460, Episode_score:-114.0, Episode_steps:114, epsilon:0.001\n",
            "Epoch:470, Episode_score:-94.0, Episode_steps:94, epsilon:0.001\n",
            "Epoch:480, Episode_score:-152.0, Episode_steps:152, epsilon:0.001\n",
            "Epoch:490, Episode_score:-152.0, Episode_steps:152, epsilon:0.001\n",
            "Epoch:500, Episode_score:-144.0, Episode_steps:144, epsilon:0.001\n",
            "Epoch:510, Episode_score:-185.0, Episode_steps:185, epsilon:0.001\n",
            "Epoch:520, Episode_score:-112.0, Episode_steps:112, epsilon:0.001\n",
            "Epoch:530, Episode_score:-114.0, Episode_steps:114, epsilon:0.001\n",
            "Epoch:540, Episode_score:-155.0, Episode_steps:155, epsilon:0.001\n",
            "Epoch:550, Episode_score:-173.0, Episode_steps:173, epsilon:0.001\n",
            "Epoch:560, Episode_score:-146.0, Episode_steps:146, epsilon:0.001\n",
            "Epoch:570, Episode_score:-142.0, Episode_steps:142, epsilon:0.001\n",
            "Epoch:580, Episode_score:-90.0, Episode_steps:90, epsilon:0.001\n",
            "Epoch:590, Episode_score:-111.0, Episode_steps:111, epsilon:0.001\n",
            "Epoch:600, Episode_score:-141.0, Episode_steps:141, epsilon:0.001\n",
            "Epoch:610, Episode_score:-119.0, Episode_steps:119, epsilon:0.001\n",
            "Epoch:620, Episode_score:-163.0, Episode_steps:163, epsilon:0.001\n",
            "Epoch:630, Episode_score:-200.0, Episode_steps:200, epsilon:0.001\n",
            "Epoch:640, Episode_score:-156.0, Episode_steps:156, epsilon:0.001\n",
            "Epoch:650, Episode_score:-155.0, Episode_steps:155, epsilon:0.001\n",
            "Epoch:660, Episode_score:-138.0, Episode_steps:138, epsilon:0.001\n",
            "Epoch:670, Episode_score:-86.0, Episode_steps:86, epsilon:0.001\n",
            "Epoch:680, Episode_score:-149.0, Episode_steps:149, epsilon:0.001\n",
            "Epoch:690, Episode_score:-186.0, Episode_steps:186, epsilon:0.001\n",
            "Epoch:700, Episode_score:-90.0, Episode_steps:90, epsilon:0.001\n",
            "Epoch:710, Episode_score:-150.0, Episode_steps:150, epsilon:0.001\n",
            "Epoch:720, Episode_score:-99.0, Episode_steps:99, epsilon:0.001\n",
            "Epoch:730, Episode_score:-108.0, Episode_steps:108, epsilon:0.001\n",
            "Epoch:740, Episode_score:-98.0, Episode_steps:98, epsilon:0.001\n",
            "Epoch:750, Episode_score:-109.0, Episode_steps:109, epsilon:0.001\n",
            "Epoch:760, Episode_score:-86.0, Episode_steps:86, epsilon:0.001\n",
            "Epoch:770, Episode_score:-147.0, Episode_steps:147, epsilon:0.001\n",
            "Epoch:780, Episode_score:-110.0, Episode_steps:110, epsilon:0.001\n",
            "Epoch:790, Episode_score:-91.0, Episode_steps:91, epsilon:0.001\n",
            "Epoch:800, Episode_score:-85.0, Episode_steps:85, epsilon:0.001\n",
            "Epoch:810, Episode_score:-200.0, Episode_steps:200, epsilon:0.001\n",
            "Epoch:820, Episode_score:-200.0, Episode_steps:200, epsilon:0.001\n",
            "Epoch:830, Episode_score:-200.0, Episode_steps:200, epsilon:0.001\n",
            "Epoch:840, Episode_score:-110.0, Episode_steps:110, epsilon:0.001\n",
            "Epoch:850, Episode_score:-148.0, Episode_steps:148, epsilon:0.001\n",
            "Epoch:860, Episode_score:-155.0, Episode_steps:155, epsilon:0.001\n",
            "Epoch:870, Episode_score:-108.0, Episode_steps:108, epsilon:0.001\n",
            "Epoch:880, Episode_score:-106.0, Episode_steps:106, epsilon:0.001\n",
            "Epoch:890, Episode_score:-146.0, Episode_steps:146, epsilon:0.001\n",
            "Epoch:900, Episode_score:-106.0, Episode_steps:106, epsilon:0.001\n",
            "Epoch:910, Episode_score:-86.0, Episode_steps:86, epsilon:0.001\n",
            "Epoch:920, Episode_score:-95.0, Episode_steps:95, epsilon:0.001\n",
            "Epoch:930, Episode_score:-96.0, Episode_steps:96, epsilon:0.001\n",
            "Epoch:940, Episode_score:-187.0, Episode_steps:187, epsilon:0.001\n",
            "Epoch:950, Episode_score:-94.0, Episode_steps:94, epsilon:0.001\n",
            "Epoch:960, Episode_score:-107.0, Episode_steps:107, epsilon:0.001\n",
            "Epoch:970, Episode_score:-163.0, Episode_steps:163, epsilon:0.001\n",
            "Epoch:980, Episode_score:-105.0, Episode_steps:105, epsilon:0.001\n",
            "Epoch:990, Episode_score:-94.0, Episode_steps:94, epsilon:0.001\n"
          ]
        }
      ],
      "source": [
        "# Do not modify this cell\n",
        "\n",
        "env               = gym.make(env_name)\n",
        "state_size        = env.observation_space.shape[0]\n",
        "action_size       = env.action_space.n\n",
        "max_episode_steps = env._max_episode_steps\n",
        "device            = torch.device('cuda' if torch.cuda.is_available() else 'cpu')\n",
        "\n",
        "print(\"state_size:{}, action_size:{}, max_episode_steps:{}, device:{} \\n\".format(state_size, action_size, max_episode_steps, device))\n",
        "\n",
        "agent = DQNAgent(state_size, action_size, device)\n",
        "\n",
        "\n",
        "\n",
        "episode_scores_list, episode_steps_list = [], []\n",
        "for epoch in range(agent.Epochs):  # agent.Epochs = 1000\n",
        "\n",
        "    state, _ = env.reset()\n",
        "    for t in range(max_episode_steps):\n",
        "        action = agent.get_action(state)\n",
        "        state_next, reward, done, time_truncation, _ = env.step(action)\n",
        "\n",
        "        agent.append_sample(state, action, reward, state_next, done)\n",
        "\n",
        "        if len(agent.memory) >= agent.train_start:\n",
        "            agent.train()\n",
        "\n",
        "        state = state_next\n",
        "        if done:\n",
        "            state, _ = env.reset()\n",
        "\n",
        "    agent.update_target_network()\n",
        "    agent.epsilon_decay()\n",
        "\n",
        "    episode_score, episode_steps = evaluation(env, agent)\n",
        "    episode_scores_list.append(episode_score)\n",
        "    episode_steps_list.append(episode_steps)\n",
        "\n",
        "    if epoch % 10 == 0:\n",
        "        print(\"Epoch:{}, Episode_score:{}, Episode_steps:{}, epsilon:{}\".format(epoch, episode_score, episode_steps, agent.epsilon))\n",
        "\n"
      ]
    },
    {
      "cell_type": "code",
      "execution_count": 9,
      "metadata": {
        "id": "OLmlHNfySvlC"
      },
      "outputs": [
        {
          "data": {
            "image/png": "[encoded data removed]",
            "text/plain": [
              "<Figure size 800x300 with 2 Axes>"
            ]
          },
          "metadata": {},
          "output_type": "display_data"
        }
      ],
      "source": [
        "# This cell provides basic evaluation score graph. You can add more plots.\n",
        "\n",
        "plt.figure(figsize=(8, 3))\n",
        "\n",
        "plt.subplot(1,2,1)\n",
        "plt.plot(episode_scores_list)\n",
        "plt.xlabel(\"Epochs\")\n",
        "plt.ylabel(\"Episode Scores\")\n",
        "plt.title(\"Episode Scores of {}\".format(env_name))\n",
        "\n",
        "plt.subplot(1,2,2)\n",
        "plt.plot(episode_steps_list)\n",
        "plt.xlabel(\"Epochs\")\n",
        "plt.ylabel(\"Episode Steps\")\n",
        "plt.title(\"Episode Steps of {}\".format(env_name))\n",
        "\n",
        "plt.show()"
      ]
    },
    {
      "cell_type": "markdown",
      "metadata": {},
      "source": [
        "Computing average reward score every 100 episodes"
      ]
    },
    {
      "cell_type": "code",
      "execution_count": 10,
      "metadata": {},
      "outputs": [
        {
          "name": "stdout",
          "output_type": "stream",
          "text": [
            "Intervals of 100\n",
            " Average reward interval 0 ~ 100 =  -200\n",
            " Average reward interval 100 ~ 200 =  -192\n",
            " Average reward interval 200 ~ 300 =  -156\n",
            " Average reward interval 300 ~ 400 =  -126\n",
            " Average reward interval 400 ~ 500 =  -113\n",
            " Average reward interval 500 ~ 600 =  -120\n",
            " Average reward interval 600 ~ 700 =  -127\n",
            " Average reward interval 700 ~ 800 =  -115\n",
            " Average reward interval 800 ~ 900 =  -119\n",
            " Average reward interval 900 ~ 1000 =  -119\n",
            "\n",
            "\n",
            "Long intervals\n",
            " Average reward interval 300 ~ 700 =  -122\n",
            " Average reward interval 500 ~ 1000 =  -120\n"
          ]
        }
      ],
      "source": [
        "episode_scores = torch.Tensor(episode_scores_list)\n",
        "\n",
        "print(\"Intervals of 100\")\n",
        "start=0\n",
        "for i in range(10):\n",
        "    end = (i+1)*100\n",
        "    average = torch.mean(episode_scores[start:end]).item()\n",
        "    print(\" Average reward interval {} ~ {} = \".format(start,end), round(average))\n",
        "    start = end\n",
        "\n",
        "print(\"\\n\")\n",
        "print(\"Long intervals\")\n",
        "average = torch.mean(episode_scores[300:700]).item()\n",
        "print(\" Average reward interval {} ~ {} = \".format(300,700), round(average))\n",
        "average = torch.mean(episode_scores[500:1000]).item()\n",
        "print(\" Average reward interval {} ~ {} = \".format(500,1000), round(average))"
      ]
    },
    {
      "cell_type": "markdown",
      "metadata": {},
      "source": [
        "Computing average steps every 100 episodes"
      ]
    },
    {
      "cell_type": "code",
      "execution_count": 11,
      "metadata": {},
      "outputs": [
        {
          "name": "stdout",
          "output_type": "stream",
          "text": [
            "Intervals of 100\n",
            " Average steps interval 0 ~ 100 =  200\n",
            " Average steps interval 100 ~ 200 =  192\n",
            " Average steps interval 200 ~ 300 =  156\n",
            " Average steps interval 300 ~ 400 =  126\n",
            " Average steps interval 400 ~ 500 =  113\n",
            " Average steps interval 500 ~ 600 =  120\n",
            " Average steps interval 600 ~ 700 =  127\n",
            " Average steps interval 700 ~ 800 =  115\n",
            " Average steps interval 800 ~ 900 =  119\n",
            " Average steps interval 900 ~ 1000 =  119\n",
            "\n",
            "\n",
            "Long intervals\n",
            " Average steps interval 300 ~ 700 =  122\n",
            " Average steps interval 500 ~ 1000 =  120\n"
          ]
        }
      ],
      "source": [
        "episode_step = torch.Tensor(episode_steps_list)\n",
        "\n",
        "print(\"Intervals of 100\")\n",
        "start=0\n",
        "for i in range(10):\n",
        "    end = (i+1)*100\n",
        "    average = torch.mean(episode_step[start:end]).item()\n",
        "    print(\" Average steps interval {} ~ {} = \".format(start,end), round(average))\n",
        "    start = end\n",
        "\n",
        "print(\"\\n\")\n",
        "print(\"Long intervals\")\n",
        "average = torch.mean(episode_step[300:700]).item()\n",
        "print(\" Average steps interval {} ~ {} = \".format(300,700), round(average))\n",
        "average = torch.mean(episode_step[500:1000]).item()\n",
        "print(\" Average steps interval {} ~ {} = \".format(500,1000), round(average))"
      ]
    },
    {
      "cell_type": "markdown",
      "metadata": {
        "id": "HxfGlM7WaxSt"
      },
      "source": [
        "\n",
        "\n",
        "---\n",
        "\n"
      ]
    },
    {
      "cell_type": "markdown",
      "metadata": {
        "id": "FSbN7TChaDwF"
      },
      "source": [
        "## 2. Double DQN implemantation"
      ]
    },
    {
      "cell_type": "code",
      "execution_count": 12,
      "metadata": {
        "id": "ZOSfIAoMa7Y0"
      },
      "outputs": [],
      "source": [
        "class QNetwork(nn.Module):\n",
        "    def __init__(self, state_dim, action_dim):\n",
        "        super(QNetwork, self).__init__()\n",
        "        # input  : (b_size, state_dim)\n",
        "        # output : (b_size, action_dim)\n",
        "        self.hidden_dim = 256\n",
        "        self.layer1 = nn.Linear(state_dim, self.hidden_dim)\n",
        "        self.layer2 = nn.Linear(self.hidden_dim, action_dim)\n",
        "\n",
        "\n",
        "    def forward(self, s):\n",
        "        #\n",
        "        s_x = F.leaky_relu(self.layer1(s))\n",
        "        q = self.layer2(s_x)\n",
        "\n",
        "        return q"
      ]
    },
    {
      "cell_type": "code",
      "execution_count": 13,
      "metadata": {
        "id": "wHP4E72fCmN9"
      },
      "outputs": [],
      "source": [
        "class DoubleDQNAgent:\n",
        "    def __init__(self, state_size, action_size, device):\n",
        "        self.state_size         = state_size\n",
        "        self.action_size        = action_size\n",
        "        self.device             = device\n",
        "\n",
        "        # Do not modify these hyper-parameters\n",
        "        self.Epochs             = 1000\n",
        "        self.discount_factor    = 0.98\n",
        "        self.learning_rate      = 0.001  # learning rate for q function\n",
        "        self.epsilon            = 1.0    # initial epsilon value\n",
        "        self.epsilon_min        = 0.001  # minimum epsilon value\n",
        "        self.batch_size         = 256\n",
        "        self.train_start        = self.batch_size * 5\n",
        "        self.memory             = deque(maxlen=100000)  # replay memory\n",
        "\n",
        "        # You can modify this depending on environments.\n",
        "        self.epsilon_decay_rate = 0.95  # decay rate\n",
        "\n",
        "        # Define and initialize your networks and optimizer\n",
        "        self.q_network =  QNetwork(self.state_size, self.action_size).to(device)\n",
        "        self.target_network =  QNetwork(self.state_size, self.action_size).to(device)\n",
        "        self.target_network.load_state_dict(self.q_network.state_dict())\n",
        "        self.optimizer = optim.Adam(self.q_network.parameters(), lr=self.learning_rate)\n",
        "        self.criterion =  nn.MSELoss()\n",
        "\n",
        "\n",
        "\n",
        "    def update_target_network(self):\n",
        "        # implement target Q network update function\n",
        "        self.target_network.load_state_dict(self.q_network.state_dict())\n",
        "\n",
        "\n",
        "    def get_action(self, state, use_epsilon_greedy=True):\n",
        "\n",
        "        state = torch.tensor(state, dtype=torch.float32, device=self.device).unsqueeze(0)\n",
        "\n",
        "        if use_epsilon_greedy:\n",
        "            # implement epsilon greedy policy given state\n",
        "\n",
        "            if random.random() < self.epsilon:\n",
        "                \n",
        "                action = random.randrange(self.action_size)\n",
        "            else:\n",
        "                \n",
        "                with torch.no_grad():\n",
        "                    action = self.q_network(state).max(1).indices.item()\n",
        "\n",
        "        else:\n",
        "            # implement greedy policy given state\n",
        "            # this greedy policy is used for evaluation\n",
        "            with torch.no_grad():\n",
        "                    action = self.q_network(state).max(1).indices.item()\n",
        "\n",
        "        return action\n",
        "\n",
        "    def append_sample(self, state, action, reward, next_state, done):\n",
        "        # implement storing function given (s,a,r,s',done) into the replay memory.\n",
        "        self.memory.append((state, action, reward, next_state, done)) \n",
        "\n",
        "    def get_samples(self, n):\n",
        "        # implement transition random sampling function from the replay memory,\n",
        "        # and make the transiton to batch.\n",
        "        transition_batch = random.sample(self.memory,n)\n",
        "\n",
        "        states, actions, rewards, next_states, dones = zip(*transition_batch)\n",
        "\n",
        "        s_batch = torch.tensor(states, dtype=torch.float32, device=self.device)\n",
        "        a_batch = torch.tensor(actions, dtype=torch.long, device=self.device).unsqueeze(1)\n",
        "        r_batch = torch.tensor(rewards, device=self.device).unsqueeze(1)\n",
        "        s_next_batch = torch.tensor(next_states, dtype=torch.float32, device=self.device)\n",
        "        done_batch = torch.tensor(dones, dtype=torch.bool, device=self.device)\n",
        "\n",
        "        # i.e.) s_batch : (batch_size, state_dim)\n",
        "        return s_batch, a_batch, r_batch, s_next_batch, done_batch\n",
        "\n",
        "    def epsilon_decay(self):\n",
        "        # implement epsilon decaying function that\n",
        "        self.epsilon = max(self.epsilon_min, self.epsilon * self.epsilon_decay_rate)\n",
        "\n",
        "    def train(self):\n",
        "        s_batch, a_batch, r_batch, s_next_batch, done_batch = self.get_samples(self.batch_size)\n",
        "\n",
        "        # implement Double DQN training function.\n",
        "        # You can return any statistics you want to check and analize the training. (i.e. loss, q values, target q values, ... etc)\n",
        "        q_values = self.q_network(s_batch).gather(1,a_batch)\n",
        "\n",
        "        ###############################################################\n",
        "        # Q network chooses the best action for next states\n",
        "        next_actions = self.q_network(s_next_batch).max(1).indices.detach().unsqueeze(1)  \n",
        "\n",
        "        # Target network estimates Q values of the selected actions\n",
        "        next_state_values = torch.zeros(self.batch_size, 1, device=self.device)  \n",
        "        with torch.no_grad():\n",
        "            next_state_values[~done_batch] = self.target_network(s_next_batch[~done_batch]).gather(1, next_actions[~done_batch])\n",
        "\n",
        "        ###############################################################\n",
        "        \n",
        "        expected_q_values = (next_state_values * self.discount_factor) + r_batch\n",
        "        loss = self.criterion(q_values, expected_q_values)\n",
        "        self.optimizer.zero_grad()\n",
        "        loss.backward()\n",
        "        self.optimizer.step()\n",
        "\n",
        "        return None\n",
        "\n"
      ]
    },
    {
      "cell_type": "code",
      "execution_count": 14,
      "metadata": {
        "id": "gAgh33TCDA2h"
      },
      "outputs": [],
      "source": [
        "# Do not modify this cell\n",
        "def evaluation(env, agent):\n",
        "    done, episode_score, episode_steps = False, 0.0, 0\n",
        "\n",
        "    state, _ = env.reset()\n",
        "    for t in range(env._max_episode_steps):\n",
        "        action = agent.get_action(state, use_epsilon_greedy=False)\n",
        "        state_next, reward, done, time_truncation, _ = env.step(action)\n",
        "\n",
        "        episode_score += reward\n",
        "        episode_steps += 1\n",
        "\n",
        "        state = state_next\n",
        "        if done:\n",
        "            break\n",
        "\n",
        "    return episode_score, episode_steps\n"
      ]
    },
    {
      "cell_type": "code",
      "execution_count": 15,
      "metadata": {
        "id": "sb-x88JXDFOj"
      },
      "outputs": [],
      "source": [
        "# experiments envs : \"CartPole-v1\", \"Acrobot-v1\", \"MountainCar-v0\"\n",
        "\n",
        "env_name          = \"MountainCar-v0\""
      ]
    },
    {
      "cell_type": "code",
      "execution_count": 16,
      "metadata": {
        "id": "MaoxqTozDHzQ"
      },
      "outputs": [
        {
          "name": "stdout",
          "output_type": "stream",
          "text": [
            "state_size:2, action_size:3, max_episode_steps:200, device:cuda \n",
            "\n",
            "Epoch:0, Episode_score:-200.0, Episode_steps:200, epsilon:0.95\n",
            "Epoch:10, Episode_score:-200.0, Episode_steps:200, epsilon:0.5688000922764596\n",
            "Epoch:20, Episode_score:-200.0, Episode_steps:200, epsilon:0.34056162628811465\n",
            "Epoch:30, Episode_score:-200.0, Episode_steps:200, epsilon:0.20390682574579033\n",
            "Epoch:40, Episode_score:-200.0, Episode_steps:200, epsilon:0.12208654873684793\n",
            "Epoch:50, Episode_score:-200.0, Episode_steps:200, epsilon:0.07309772651287748\n",
            "Epoch:60, Episode_score:-156.0, Episode_steps:156, epsilon:0.04376630903760433\n",
            "Epoch:70, Episode_score:-200.0, Episode_steps:200, epsilon:0.02620450591493621\n",
            "Epoch:80, Episode_score:-200.0, Episode_steps:200, epsilon:0.015689605665762895\n",
            "Epoch:90, Episode_score:-200.0, Episode_steps:200, epsilon:0.009393946474176\n",
            "Epoch:100, Episode_score:-200.0, Episode_steps:200, epsilon:0.0056245027593172965\n",
            "Epoch:110, Episode_score:-184.0, Episode_steps:184, epsilon:0.003367597566851453\n",
            "Epoch:120, Episode_score:-192.0, Episode_steps:192, epsilon:0.0020163050597632503\n",
            "Epoch:130, Episode_score:-112.0, Episode_steps:112, epsilon:0.0012072363200535043\n",
            "Epoch:140, Episode_score:-113.0, Episode_steps:113, epsilon:0.001\n",
            "Epoch:150, Episode_score:-111.0, Episode_steps:111, epsilon:0.001\n",
            "Epoch:160, Episode_score:-169.0, Episode_steps:169, epsilon:0.001\n",
            "Epoch:170, Episode_score:-136.0, Episode_steps:136, epsilon:0.001\n",
            "Epoch:180, Episode_score:-154.0, Episode_steps:154, epsilon:0.001\n",
            "Epoch:190, Episode_score:-153.0, Episode_steps:153, epsilon:0.001\n",
            "Epoch:200, Episode_score:-200.0, Episode_steps:200, epsilon:0.001\n",
            "Epoch:210, Episode_score:-117.0, Episode_steps:117, epsilon:0.001\n",
            "Epoch:220, Episode_score:-147.0, Episode_steps:147, epsilon:0.001\n",
            "Epoch:230, Episode_score:-145.0, Episode_steps:145, epsilon:0.001\n",
            "Epoch:240, Episode_score:-142.0, Episode_steps:142, epsilon:0.001\n",
            "Epoch:250, Episode_score:-149.0, Episode_steps:149, epsilon:0.001\n",
            "Epoch:260, Episode_score:-87.0, Episode_steps:87, epsilon:0.001\n",
            "Epoch:270, Episode_score:-144.0, Episode_steps:144, epsilon:0.001\n",
            "Epoch:280, Episode_score:-144.0, Episode_steps:144, epsilon:0.001\n",
            "Epoch:290, Episode_score:-145.0, Episode_steps:145, epsilon:0.001\n",
            "Epoch:300, Episode_score:-146.0, Episode_steps:146, epsilon:0.001\n",
            "Epoch:310, Episode_score:-148.0, Episode_steps:148, epsilon:0.001\n",
            "Epoch:320, Episode_score:-140.0, Episode_steps:140, epsilon:0.001\n",
            "Epoch:330, Episode_score:-111.0, Episode_steps:111, epsilon:0.001\n",
            "Epoch:340, Episode_score:-142.0, Episode_steps:142, epsilon:0.001\n",
            "Epoch:350, Episode_score:-149.0, Episode_steps:149, epsilon:0.001\n",
            "Epoch:360, Episode_score:-159.0, Episode_steps:159, epsilon:0.001\n",
            "Epoch:370, Episode_score:-156.0, Episode_steps:156, epsilon:0.001\n",
            "Epoch:380, Episode_score:-148.0, Episode_steps:148, epsilon:0.001\n",
            "Epoch:390, Episode_score:-154.0, Episode_steps:154, epsilon:0.001\n",
            "Epoch:400, Episode_score:-148.0, Episode_steps:148, epsilon:0.001\n",
            "Epoch:410, Episode_score:-89.0, Episode_steps:89, epsilon:0.001\n",
            "Epoch:420, Episode_score:-146.0, Episode_steps:146, epsilon:0.001\n",
            "Epoch:430, Episode_score:-148.0, Episode_steps:148, epsilon:0.001\n",
            "Epoch:440, Episode_score:-111.0, Episode_steps:111, epsilon:0.001\n",
            "Epoch:450, Episode_score:-113.0, Episode_steps:113, epsilon:0.001\n",
            "Epoch:460, Episode_score:-85.0, Episode_steps:85, epsilon:0.001\n",
            "Epoch:470, Episode_score:-92.0, Episode_steps:92, epsilon:0.001\n",
            "Epoch:480, Episode_score:-119.0, Episode_steps:119, epsilon:0.001\n",
            "Epoch:490, Episode_score:-86.0, Episode_steps:86, epsilon:0.001\n",
            "Epoch:500, Episode_score:-110.0, Episode_steps:110, epsilon:0.001\n",
            "Epoch:510, Episode_score:-163.0, Episode_steps:163, epsilon:0.001\n",
            "Epoch:520, Episode_score:-157.0, Episode_steps:157, epsilon:0.001\n",
            "Epoch:530, Episode_score:-155.0, Episode_steps:155, epsilon:0.001\n",
            "Epoch:540, Episode_score:-99.0, Episode_steps:99, epsilon:0.001\n",
            "Epoch:550, Episode_score:-113.0, Episode_steps:113, epsilon:0.001\n",
            "Epoch:560, Episode_score:-130.0, Episode_steps:130, epsilon:0.001\n",
            "Epoch:570, Episode_score:-129.0, Episode_steps:129, epsilon:0.001\n",
            "Epoch:580, Episode_score:-110.0, Episode_steps:110, epsilon:0.001\n",
            "Epoch:590, Episode_score:-135.0, Episode_steps:135, epsilon:0.001\n",
            "Epoch:600, Episode_score:-150.0, Episode_steps:150, epsilon:0.001\n",
            "Epoch:610, Episode_score:-99.0, Episode_steps:99, epsilon:0.001\n",
            "Epoch:620, Episode_score:-149.0, Episode_steps:149, epsilon:0.001\n",
            "Epoch:630, Episode_score:-142.0, Episode_steps:142, epsilon:0.001\n",
            "Epoch:640, Episode_score:-152.0, Episode_steps:152, epsilon:0.001\n",
            "Epoch:650, Episode_score:-147.0, Episode_steps:147, epsilon:0.001\n",
            "Epoch:660, Episode_score:-151.0, Episode_steps:151, epsilon:0.001\n",
            "Epoch:670, Episode_score:-162.0, Episode_steps:162, epsilon:0.001\n",
            "Epoch:680, Episode_score:-152.0, Episode_steps:152, epsilon:0.001\n",
            "Epoch:690, Episode_score:-200.0, Episode_steps:200, epsilon:0.001\n",
            "Epoch:700, Episode_score:-199.0, Episode_steps:199, epsilon:0.001\n",
            "Epoch:710, Episode_score:-200.0, Episode_steps:200, epsilon:0.001\n",
            "Epoch:720, Episode_score:-200.0, Episode_steps:200, epsilon:0.001\n",
            "Epoch:730, Episode_score:-130.0, Episode_steps:130, epsilon:0.001\n",
            "Epoch:740, Episode_score:-105.0, Episode_steps:105, epsilon:0.001\n",
            "Epoch:750, Episode_score:-107.0, Episode_steps:107, epsilon:0.001\n",
            "Epoch:760, Episode_score:-105.0, Episode_steps:105, epsilon:0.001\n",
            "Epoch:770, Episode_score:-88.0, Episode_steps:88, epsilon:0.001\n",
            "Epoch:780, Episode_score:-89.0, Episode_steps:89, epsilon:0.001\n",
            "Epoch:790, Episode_score:-86.0, Episode_steps:86, epsilon:0.001\n",
            "Epoch:800, Episode_score:-95.0, Episode_steps:95, epsilon:0.001\n",
            "Epoch:810, Episode_score:-142.0, Episode_steps:142, epsilon:0.001\n",
            "Epoch:820, Episode_score:-106.0, Episode_steps:106, epsilon:0.001\n",
            "Epoch:830, Episode_score:-106.0, Episode_steps:106, epsilon:0.001\n",
            "Epoch:840, Episode_score:-94.0, Episode_steps:94, epsilon:0.001\n",
            "Epoch:850, Episode_score:-112.0, Episode_steps:112, epsilon:0.001\n",
            "Epoch:860, Episode_score:-89.0, Episode_steps:89, epsilon:0.001\n",
            "Epoch:870, Episode_score:-108.0, Episode_steps:108, epsilon:0.001\n",
            "Epoch:880, Episode_score:-162.0, Episode_steps:162, epsilon:0.001\n",
            "Epoch:890, Episode_score:-110.0, Episode_steps:110, epsilon:0.001\n",
            "Epoch:900, Episode_score:-93.0, Episode_steps:93, epsilon:0.001\n",
            "Epoch:910, Episode_score:-107.0, Episode_steps:107, epsilon:0.001\n",
            "Epoch:920, Episode_score:-85.0, Episode_steps:85, epsilon:0.001\n",
            "Epoch:930, Episode_score:-124.0, Episode_steps:124, epsilon:0.001\n",
            "Epoch:940, Episode_score:-111.0, Episode_steps:111, epsilon:0.001\n",
            "Epoch:950, Episode_score:-108.0, Episode_steps:108, epsilon:0.001\n",
            "Epoch:960, Episode_score:-113.0, Episode_steps:113, epsilon:0.001\n",
            "Epoch:970, Episode_score:-116.0, Episode_steps:116, epsilon:0.001\n",
            "Epoch:980, Episode_score:-109.0, Episode_steps:109, epsilon:0.001\n",
            "Epoch:990, Episode_score:-88.0, Episode_steps:88, epsilon:0.001\n"
          ]
        }
      ],
      "source": [
        "# Do not modify this cell\n",
        "\n",
        "env               = gym.make(env_name)\n",
        "state_size        = env.observation_space.shape[0]\n",
        "action_size       = env.action_space.n\n",
        "max_episode_steps = env._max_episode_steps\n",
        "device            = torch.device('cuda' if torch.cuda.is_available() else 'cpu')\n",
        "\n",
        "print(\"state_size:{}, action_size:{}, max_episode_steps:{}, device:{} \\n\".format(state_size, action_size, max_episode_steps, device))\n",
        "\n",
        "agent = DoubleDQNAgent(state_size, action_size, device)\n",
        "\n",
        "\n",
        "\n",
        "episode_scores_list, episode_steps_list = [], []\n",
        "for epoch in range(agent.Epochs):  # agent.Epochs = 1000\n",
        "\n",
        "    state, _ = env.reset()\n",
        "    for t in range(max_episode_steps):\n",
        "        action = agent.get_action(state)\n",
        "        state_next, reward, done, time_truncation, _ = env.step(action)\n",
        "\n",
        "        agent.append_sample(state, action, reward, state_next, done)\n",
        "\n",
        "        if len(agent.memory) >= agent.train_start:\n",
        "            agent.train()\n",
        "\n",
        "        state = state_next\n",
        "        if done:\n",
        "            state, _ = env.reset()\n",
        "\n",
        "    agent.update_target_network()\n",
        "    agent.epsilon_decay()\n",
        "\n",
        "    episode_score, episode_steps = evaluation(env, agent)\n",
        "    episode_scores_list.append(episode_score)\n",
        "    episode_steps_list.append(episode_steps)\n",
        "\n",
        "    if epoch % 10 == 0:\n",
        "        print(\"Epoch:{}, Episode_score:{}, Episode_steps:{}, epsilon:{}\".format(epoch, episode_score, episode_steps, agent.epsilon))\n",
        "\n"
      ]
    },
    {
      "cell_type": "code",
      "execution_count": 17,
      "metadata": {
        "id": "L6tUwNL_DN-P"
      },
      "outputs": [
        {
          "data": {
            "image/png": "[encoded data removed]",
            "text/plain": [
              "<Figure size 800x300 with 2 Axes>"
            ]
          },
          "metadata": {},
          "output_type": "display_data"
        }
      ],
      "source": [
        "# This cell provides basic evaluation score graph. You can add more plots.\n",
        "\n",
        "plt.figure(figsize=(8, 3))\n",
        "\n",
        "plt.subplot(1,2,1)\n",
        "plt.plot(episode_scores_list)\n",
        "plt.xlabel(\"Epochs\")\n",
        "plt.ylabel(\"Episode Scores\")\n",
        "plt.title(\"Episode Scores of {}\".format(env_name))\n",
        "\n",
        "plt.subplot(1,2,2)\n",
        "plt.plot(episode_steps_list)\n",
        "plt.xlabel(\"Epochs\")\n",
        "plt.ylabel(\"Episode Steps\")\n",
        "plt.title(\"Episode Steps of {}\".format(env_name))\n",
        "\n",
        "plt.show()"
      ]
    },
    {
      "cell_type": "markdown",
      "metadata": {},
      "source": [
        "Computing average reward score every 100 episodes"
      ]
    },
    {
      "cell_type": "code",
      "execution_count": 18,
      "metadata": {},
      "outputs": [
        {
          "name": "stdout",
          "output_type": "stream",
          "text": [
            "Intervals of 100\n",
            " Average reward interval 0 ~ 100 =  -197\n",
            " Average reward interval 100 ~ 200 =  -151\n",
            " Average reward interval 200 ~ 300 =  -135\n",
            " Average reward interval 300 ~ 400 =  -136\n",
            " Average reward interval 400 ~ 500 =  -121\n",
            " Average reward interval 500 ~ 600 =  -124\n",
            " Average reward interval 600 ~ 700 =  -143\n",
            " Average reward interval 700 ~ 800 =  -145\n",
            " Average reward interval 800 ~ 900 =  -111\n",
            " Average reward interval 900 ~ 1000 =  -110\n",
            "\n",
            "\n",
            "Long intervals\n",
            " Average reward interval 300 ~ 700 =  -131\n",
            " Average reward interval 500 ~ 1000 =  -127\n"
          ]
        }
      ],
      "source": [
        "episode_scores = torch.Tensor(episode_scores_list)\n",
        "\n",
        "print(\"Intervals of 100\")\n",
        "start=0\n",
        "for i in range(10):\n",
        "    end = (i+1)*100\n",
        "    average = torch.mean(episode_scores[start:end]).item()\n",
        "    print(\" Average reward interval {} ~ {} = \".format(start,end), round(average))\n",
        "    start = end\n",
        "\n",
        "print(\"\\n\")\n",
        "print(\"Long intervals\")\n",
        "average = torch.mean(episode_scores[300:700]).item()\n",
        "print(\" Average reward interval {} ~ {} = \".format(300,700), round(average))\n",
        "average = torch.mean(episode_scores[500:1000]).item()\n",
        "print(\" Average reward interval {} ~ {} = \".format(500,1000), round(average))"
      ]
    },
    {
      "cell_type": "markdown",
      "metadata": {},
      "source": [
        "Computing average steps every 100 episodes"
      ]
    },
    {
      "cell_type": "code",
      "execution_count": 19,
      "metadata": {},
      "outputs": [
        {
          "name": "stdout",
          "output_type": "stream",
          "text": [
            "Intervals of 100\n",
            " Average steps interval 0 ~ 100 =  197\n",
            " Average steps interval 100 ~ 200 =  151\n",
            " Average steps interval 200 ~ 300 =  135\n",
            " Average steps interval 300 ~ 400 =  136\n",
            " Average steps interval 400 ~ 500 =  121\n",
            " Average steps interval 500 ~ 600 =  124\n",
            " Average steps interval 600 ~ 700 =  143\n",
            " Average steps interval 700 ~ 800 =  145\n",
            " Average steps interval 800 ~ 900 =  111\n",
            " Average steps interval 900 ~ 1000 =  110\n",
            "\n",
            "\n",
            "Long intervals\n",
            " Average steps interval 300 ~ 700 =  131\n",
            " Average steps interval 500 ~ 1000 =  127\n"
          ]
        }
      ],
      "source": [
        "episode_step = torch.Tensor(episode_steps_list)\n",
        "\n",
        "print(\"Intervals of 100\")\n",
        "start=0\n",
        "for i in range(10):\n",
        "    end = (i+1)*100\n",
        "    average = torch.mean(episode_step[start:end]).item()\n",
        "    print(\" Average steps interval {} ~ {} = \".format(start,end), round(average))\n",
        "    start = end\n",
        "\n",
        "print(\"\\n\")\n",
        "print(\"Long intervals\")\n",
        "average = torch.mean(episode_step[300:700]).item()\n",
        "print(\" Average steps interval {} ~ {} = \".format(300,700), round(average))\n",
        "average = torch.mean(episode_step[500:1000]).item()\n",
        "print(\" Average steps interval {} ~ {} = \".format(500,1000), round(average))"
      ]
    },
    {
      "cell_type": "markdown",
      "metadata": {
        "id": "Q4NDsu7qa-oV"
      },
      "source": [
        "\n",
        "\n",
        "---\n",
        "\n"
      ]
    },
    {
      "cell_type": "markdown",
      "metadata": {
        "id": "jOCjHuyybArE"
      },
      "source": [
        "## 3. Additional Implementation"
      ]
    },
    {
      "cell_type": "code",
      "execution_count": 20,
      "metadata": {
        "id": "dAoU9KWqbE4m"
      },
      "outputs": [],
      "source": [
        "# You can implement any RL algorithm that could increase performance, but experiment on the three environments."
      ]
    }
  ],
  "metadata": {
    "accelerator": "GPU",
    "colab": {
      "gpuType": "T4",
      "provenance": []
    },
    "kernelspec": {
      "display_name": "Python 3",
      "name": "python3"
    },
    "language_info": {
      "codemirror_mode": {
        "name": "ipython",
        "version": 3
      },
      "file_extension": ".py",
      "mimetype": "text/x-python",
      "name": "python",
      "nbconvert_exporter": "python",
      "pygments_lexer": "ipython3",
      "version": "3.8.0"
    }
  },
  "nbformat": 4,
  "nbformat_minor": 0
}
